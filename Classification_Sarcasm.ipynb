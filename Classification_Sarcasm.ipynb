{
  "nbformat": 4,
  "nbformat_minor": 0,
  "metadata": {
    "colab": {
      "name": "Classification_Sarcasm.ipynb",
      "provenance": [],
      "collapsed_sections": [],
      "authorship_tag": "ABX9TyMkX4uhgXTVD+TOICXAlwoo",
      "include_colab_link": true
    },
    "kernelspec": {
      "name": "python3",
      "display_name": "Python 3"
    },
    "language_info": {
      "name": "python"
    }
  },
  "cells": [
    {
      "cell_type": "markdown",
      "metadata": {
        "id": "view-in-github",
        "colab_type": "text"
      },
      "source": [
        "<a href=\"https://colab.research.google.com/github/dhhieu397/Tensorflow-Certificate/blob/master/Classification_Sarcasm.ipynb\" target=\"_parent\"><img src=\"https://colab.research.google.com/assets/colab-badge.svg\" alt=\"Open In Colab\"/></a>"
      ]
    },
    {
      "cell_type": "code",
      "metadata": {
        "colab": {
          "base_uri": "https://localhost:8080/"
        },
        "id": "BriTdV4frzJE",
        "outputId": "d8b525ef-d934-4130-bce1-885167afae57"
      },
      "source": [
        "import json\n",
        "import tensorflow as tf\n",
        "import numpy as np\n",
        "import urllib\n",
        "from tensorflow.keras.preprocessing.text import Tokenizer\n",
        "from tensorflow.keras.preprocessing.sequence import pad_sequences\n",
        "import json\n",
        "import tensorflow as tf\n",
        "import numpy as np\n",
        "import urllib\n",
        "from tensorflow.keras.preprocessing.text import Tokenizer\n",
        "from tensorflow.keras.preprocessing.sequence import pad_sequences\n",
        "def solution_model():\n",
        "    url = 'https://storage.googleapis.com/download.tensorflow.org/data/sarcasm.json'\n",
        "    urllib.request.urlretrieve(url, 'sarcasm.json')\n",
        "    # DO NOT CHANGE THIS CODE OR THE TESTS MAY NOT WORK\n",
        "    vocab_size = 1000\n",
        "    embedding_dim = 16\n",
        "    max_length = 120\n",
        "    trunc_type='post'\n",
        "    padding_type='post'\n",
        "    oov_tok = \"<OOV>\"\n",
        "    training_size = 20000\n",
        "    sentences = []\n",
        "    labels = []\n",
        "    # YOUR CODE HERE\n",
        "    with open(\"sarcasm.json\", 'r') as f:\n",
        "      data = json.load(f)\n",
        "    for i in data:\n",
        "      sentences.append(i['headline'])\n",
        "      labels.append(i['is_sarcastic'])\n",
        "    training_sentences = sentences[0:training_size]\n",
        "    testing_sentences = sentences[training_size:]\n",
        "    training_labels = labels[0:training_size]\n",
        "    testing_labels = labels[training_size:]\n",
        "    training_labels = np.array(training_labels)\n",
        "    testing_labels = np.array(testing_labels)\n",
        "    # create the tokenizer, # fit the tokenizer on the datasets\n",
        "    tokenizer = Tokenizer(num_words=vocab_size, oov_token=oov_tok)\n",
        "    #Build dictionary\n",
        "    tokenizer.fit_on_texts(training_sentences)\n",
        "    word_index = tokenizer.word_index\n",
        "    training_sequences = tokenizer.texts_to_sequences(training_sentences)\n",
        "    training_padded = pad_sequences(training_sequences, maxlen=max_length, padding=padding_type, truncating=trunc_type)\n",
        "    testing_sequences = tokenizer.texts_to_sequences(testing_sentences)\n",
        "    testing_padded = pad_sequences(testing_sequences, maxlen=max_length, padding=padding_type, truncating=trunc_type)\n",
        "    model = tf.keras.Sequential([\n",
        "    # YOUR CODE HERE. KEEP THIS OUTPUT LAYER INTACT OR TESTS MAY FAIL\n",
        "        tf.keras.layers.Embedding(vocab_size, embedding_dim, input_length=max_length),\n",
        "        tf.keras.layers.Bidirectional(tf.keras.layers.LSTM(32,return_sequences=True)),\n",
        "        tf.keras.layers.Bidirectional(tf.keras.layers.LSTM(32)),\n",
        "        tf.keras.layers.Dense(24, activation='relu'),\n",
        "        tf.keras.layers.Dense(1, activation='sigmoid')\n",
        "    ])\n",
        "    model.compile(loss='binary_crossentropy', optimizer='adam', metrics=['accuracy'])\n",
        "    num_epochs = 10\n",
        "    history = model.fit(training_padded, training_labels, epochs=num_epochs, validation_data=(testing_padded, testing_labels), verbose=2)\n",
        "    return model\n",
        "# Note that you'll need to save your model as a .h5 like this.\n",
        "# When you press the Submit and Test button, your saved .h5 model will\n",
        "# be sent to the testing infrastructure for scoring\n",
        "# and the score will be returned to you.\n",
        "if __name__ == '__main__':\n",
        "    model = solution_model()\n",
        "    model.save(\"mymodel.h5\")"
      ],
      "execution_count": null,
      "outputs": [
        {
          "output_type": "stream",
          "name": "stdout",
          "text": [
            "Epoch 1/10\n",
            "625/625 - 85s - loss: 0.4494 - accuracy: 0.7775 - val_loss: 0.4009 - val_accuracy: 0.8094\n",
            "Epoch 2/10\n",
            "625/625 - 78s - loss: 0.3547 - accuracy: 0.8382 - val_loss: 0.3738 - val_accuracy: 0.8313\n",
            "Epoch 3/10\n",
            "625/625 - 79s - loss: 0.3270 - accuracy: 0.8536 - val_loss: 0.3778 - val_accuracy: 0.8283\n",
            "Epoch 4/10\n",
            "625/625 - 79s - loss: 0.3084 - accuracy: 0.8640 - val_loss: 0.3820 - val_accuracy: 0.8308\n",
            "Epoch 5/10\n",
            "625/625 - 78s - loss: 0.2959 - accuracy: 0.8715 - val_loss: 0.3748 - val_accuracy: 0.8286\n",
            "Epoch 6/10\n",
            "625/625 - 79s - loss: 0.2833 - accuracy: 0.8781 - val_loss: 0.3809 - val_accuracy: 0.8331\n",
            "Epoch 7/10\n",
            "625/625 - 82s - loss: 0.2782 - accuracy: 0.8809 - val_loss: 0.3916 - val_accuracy: 0.8293\n",
            "Epoch 8/10\n",
            "625/625 - 79s - loss: 0.2698 - accuracy: 0.8849 - val_loss: 0.3961 - val_accuracy: 0.8264\n",
            "Epoch 9/10\n",
            "625/625 - 79s - loss: 0.2635 - accuracy: 0.8885 - val_loss: 0.4273 - val_accuracy: 0.8232\n",
            "Epoch 10/10\n",
            "625/625 - 79s - loss: 0.2591 - accuracy: 0.8906 - val_loss: 0.4203 - val_accuracy: 0.8220\n"
          ]
        }
      ]
    },
    {
      "cell_type": "code",
      "metadata": {
        "id": "Bkdv6vqmyt_Z"
      },
      "source": [
        "https://www.kaggle.com/rohitganji13/sarcasm-detection-95-accuracy "
      ],
      "execution_count": null,
      "outputs": []
    },
    {
      "cell_type": "markdown",
      "metadata": {
        "id": "b-qbn8Mpr0UG"
      },
      "source": [
        ""
      ]
    }
  ]
}