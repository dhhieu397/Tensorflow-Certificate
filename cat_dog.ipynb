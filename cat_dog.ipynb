{
  "nbformat": 4,
  "nbformat_minor": 0,
  "metadata": {
    "colab": {
      "name": "cat_dog.ipynb",
      "provenance": [],
      "collapsed_sections": [],
      "include_colab_link": true
    },
    "kernelspec": {
      "name": "python3",
      "display_name": "Python 3"
    },
    "language_info": {
      "name": "python"
    },
    "accelerator": "GPU"
  },
  "cells": [
    {
      "cell_type": "markdown",
      "metadata": {
        "id": "view-in-github",
        "colab_type": "text"
      },
      "source": [
        "<a href=\"https://colab.research.google.com/github/dhhieu397/Tensorflow-Certificate/blob/master/cat_dog.ipynb\" target=\"_parent\"><img src=\"https://colab.research.google.com/assets/colab-badge.svg\" alt=\"Open In Colab\"/></a>"
      ]
    },
    {
      "cell_type": "code",
      "metadata": {
        "id": "p8lID-H6cAsR",
        "colab": {
          "base_uri": "https://localhost:8080/"
        },
        "outputId": "62070b20-6d9e-40f9-e1db-ff718f08244e"
      },
      "source": [
        "!wget --no-check-certificate \\\n",
        "    https://storage.googleapis.com/laurencemoroney-blog.appspot.com/rps.zip \\\n",
        "    -O /tmp/rps.zip\n",
        "  \n",
        "!wget --no-check-certificate \\\n",
        "    https://storage.googleapis.com/laurencemoroney-blog.appspot.com/rps-test-set.zip \\\n",
        "    -O /tmp/rps-test-set.zip"
      ],
      "execution_count": null,
      "outputs": [
        {
          "output_type": "stream",
          "name": "stdout",
          "text": [
            "--2021-09-17 15:54:38--  https://storage.googleapis.com/laurencemoroney-blog.appspot.com/rps.zip\n",
            "Resolving storage.googleapis.com (storage.googleapis.com)... 142.251.5.128, 74.125.206.128, 64.233.167.128, ...\n",
            "Connecting to storage.googleapis.com (storage.googleapis.com)|142.251.5.128|:443... connected.\n",
            "HTTP request sent, awaiting response... 200 OK\n",
            "Length: 200682221 (191M) [application/zip]\n",
            "Saving to: ‘/tmp/rps.zip’\n",
            "\n",
            "/tmp/rps.zip        100%[===================>] 191.38M  36.3MB/s    in 5.3s    \n",
            "\n",
            "2021-09-17 15:54:43 (36.3 MB/s) - ‘/tmp/rps.zip’ saved [200682221/200682221]\n",
            "\n",
            "--2021-09-17 15:54:43--  https://storage.googleapis.com/laurencemoroney-blog.appspot.com/rps-test-set.zip\n",
            "Resolving storage.googleapis.com (storage.googleapis.com)... 66.102.1.128, 172.253.120.128, 142.251.5.128, ...\n",
            "Connecting to storage.googleapis.com (storage.googleapis.com)|66.102.1.128|:443... connected.\n",
            "HTTP request sent, awaiting response... 200 OK\n",
            "Length: 29516758 (28M) [application/zip]\n",
            "Saving to: ‘/tmp/rps-test-set.zip’\n",
            "\n",
            "/tmp/rps-test-set.z 100%[===================>]  28.15M  28.9MB/s    in 1.0s    \n",
            "\n",
            "2021-09-17 15:54:45 (28.9 MB/s) - ‘/tmp/rps-test-set.zip’ saved [29516758/29516758]\n",
            "\n"
          ]
        }
      ]
    },
    {
      "cell_type": "code",
      "metadata": {
        "id": "jHwRrrcjcB8t"
      },
      "source": [
        "import os\n",
        "import zipfile\n",
        "\n",
        "local_zip = '/tmp/rps.zip'\n",
        "zip_ref = zipfile.ZipFile(local_zip, 'r')\n",
        "zip_ref.extractall('/tmp/')\n",
        "zip_ref.close()\n",
        "\n",
        "local_zip = '/tmp/rps-test-set.zip'\n",
        "zip_ref = zipfile.ZipFile(local_zip, 'r')\n",
        "zip_ref.extractall('/tmp/')\n",
        "zip_ref.close()"
      ],
      "execution_count": null,
      "outputs": []
    },
    {
      "cell_type": "code",
      "metadata": {
        "id": "u6zN2fx-cFIy",
        "colab": {
          "base_uri": "https://localhost:8080/"
        },
        "outputId": "897370f7-ebe7-4a3f-a000-6a2892daffb4"
      },
      "source": [
        "rock_dir = os.path.join('/tmp/rps/rock')\n",
        "paper_dir = os.path.join('/tmp/rps/paper')\n",
        "scissors_dir = os.path.join('/tmp/rps/scissors')\n",
        "\n",
        "print('total training rock images:', len(os.listdir(rock_dir)))\n",
        "print('total training paper images:', len(os.listdir(paper_dir)))\n",
        "print('total training scissors images:', len(os.listdir(scissors_dir)))\n",
        "\n",
        "rock_files = os.listdir(rock_dir)\n",
        "print(rock_files[:10])\n",
        "\n",
        "paper_files = os.listdir(paper_dir)\n",
        "print(paper_files[:10])\n",
        "\n",
        "scissors_files = os.listdir(scissors_dir)\n",
        "print(scissors_files[:10])"
      ],
      "execution_count": null,
      "outputs": [
        {
          "output_type": "stream",
          "name": "stdout",
          "text": [
            "total training rock images: 840\n",
            "total training paper images: 840\n",
            "total training scissors images: 840\n",
            "['rock07-k03-045.png', 'rock02-090.png', 'rock04-080.png', 'rock06ck02-047.png', 'rock06ck02-022.png', 'rock03-053.png', 'rock06ck02-033.png', 'rock07-k03-104.png', 'rock02-061.png', 'rock06ck02-002.png']\n",
            "['paper05-082.png', 'paper03-081.png', 'paper06-102.png', 'paper05-037.png', 'paper06-005.png', 'paper02-099.png', 'paper01-115.png', 'paper05-034.png', 'paper01-103.png', 'paper07-012.png']\n",
            "['testscissors03-042.png', 'scissors04-018.png', 'scissors01-054.png', 'scissors03-059.png', 'scissors04-004.png', 'testscissors02-107.png', 'scissors03-034.png', 'scissors03-104.png', 'scissors02-071.png', 'scissors02-099.png']\n"
          ]
        }
      ]
    },
    {
      "cell_type": "code",
      "metadata": {
        "id": "EP6ThrRtcFpi"
      },
      "source": [
        "%matplotlib inline\n",
        "\n",
        "import matplotlib.pyplot as plt\n",
        "import matplotlib.image as mpimg\n",
        "\n",
        "pic_index = 2\n",
        "\n",
        "next_rock = [os.path.join(rock_dir, fname) \n",
        "                for fname in rock_files[pic_index-2:pic_index]]\n",
        "next_paper = [os.path.join(paper_dir, fname) \n",
        "                for fname in paper_files[pic_index-2:pic_index]]\n",
        "next_scissors = [os.path.join(scissors_dir, fname) \n",
        "                for fname in scissors_files[pic_index-2:pic_index]]\n",
        "\n",
        "\n",
        "\n",
        "# for i, img_path in enumerate(next_rock+next_paper+next_scissors):\n",
        "#   #print(img_path)\n",
        "#   img = mpimg.imread(img_path)\n",
        "#   plt.imshow(img)\n",
        "#   plt.axis('Off')\n",
        "#   plt.show()"
      ],
      "execution_count": null,
      "outputs": []
    },
    {
      "cell_type": "code",
      "metadata": {
        "colab": {
          "base_uri": "https://localhost:8080/"
        },
        "id": "FCqLrvMFeQFs",
        "outputId": "7f3b37c1-e65d-490e-88a7-e3dd44682d76"
      },
      "source": [
        "print(rock_files[pic_index-2:pic_index])"
      ],
      "execution_count": null,
      "outputs": [
        {
          "output_type": "stream",
          "name": "stdout",
          "text": [
            "['rock07-k03-045.png', 'rock02-090.png']\n"
          ]
        }
      ]
    },
    {
      "cell_type": "code",
      "metadata": {
        "colab": {
          "base_uri": "https://localhost:8080/"
        },
        "id": "3tANDXJVeZi8",
        "outputId": "5b3330f5-e748-4ec7-ee10-f4d719d97149"
      },
      "source": [
        "\n",
        "rock_files[pic_index-2:pic_index]"
      ],
      "execution_count": null,
      "outputs": [
        {
          "output_type": "execute_result",
          "data": {
            "text/plain": [
              "['rock07-k03-045.png', 'rock02-090.png']"
            ]
          },
          "metadata": {},
          "execution_count": 11
        }
      ]
    },
    {
      "cell_type": "code",
      "metadata": {
        "id": "EKyT2v-AcHeg",
        "colab": {
          "base_uri": "https://localhost:8080/"
        },
        "outputId": "9c5c586f-39cf-4a64-e8d8-eaf0cf091c53"
      },
      "source": [
        "import tensorflow as tf\n",
        "import keras_preprocessing\n",
        "from keras_preprocessing import image\n",
        "from keras_preprocessing.image import ImageDataGenerator\n",
        "\n",
        "TRAINING_DIR = \"/tmp/rps/\"\n",
        "training_datagen = ImageDataGenerator(\n",
        "      rescale = 1./255,\n",
        "\t    rotation_range=40,\n",
        "      width_shift_range=0.2,\n",
        "      height_shift_range=0.2,\n",
        "      shear_range=0.2,\n",
        "      zoom_range=0.2,\n",
        "      horizontal_flip=True,\n",
        "      fill_mode='nearest')\n",
        "\n",
        "VALIDATION_DIR = \"/tmp/rps-test-set/\"\n",
        "validation_datagen = ImageDataGenerator(rescale = 1./255)\n",
        "\n",
        "train_generator = training_datagen.flow_from_directory(\n",
        "\tTRAINING_DIR,\n",
        "\ttarget_size=(150,150),\n",
        "\tclass_mode='categorical',\n",
        "  batch_size=126\n",
        ")\n",
        "\n",
        "validation_generator = validation_datagen.flow_from_directory(\n",
        "\tVALIDATION_DIR,\n",
        "\ttarget_size=(150,150),\n",
        "\tclass_mode='categorical',\n",
        "  batch_size=126\n",
        ")\n",
        "\n",
        "model = tf.keras.models.Sequential([\n",
        "    # Note the input shape is the desired size of the image 150x150 with 3 bytes color\n",
        "    # This is the first convolution\n",
        "    tf.keras.layers.Conv2D(64, (3,3), activation='relu', input_shape=(150, 150, 3)),\n",
        "    tf.keras.layers.MaxPooling2D(2, 2),\n",
        "    # The second convolution\n",
        "    tf.keras.layers.Conv2D(64, (3,3), activation='relu'),\n",
        "    tf.keras.layers.MaxPooling2D(2,2),\n",
        "    # The third convolution\n",
        "    tf.keras.layers.Conv2D(128, (3,3), activation='relu'),\n",
        "    tf.keras.layers.MaxPooling2D(2,2),\n",
        "    # The fourth convolution\n",
        "    tf.keras.layers.Conv2D(128, (3,3), activation='relu'),\n",
        "    tf.keras.layers.MaxPooling2D(2,2),\n",
        "    # Flatten the results to feed into a DNN\n",
        "    tf.keras.layers.Flatten(),\n",
        "    tf.keras.layers.Dropout(0.5),\n",
        "    # 512 neuron hidden layer\n",
        "    tf.keras.layers.Dense(512, activation='relu'),\n",
        "    tf.keras.layers.Dense(3, activation='softmax')\n",
        "])\n",
        "\n",
        "\n",
        "model.summary()\n",
        "\n",
        "model.compile(loss = 'categorical_crossentropy', optimizer='rmsprop', metrics=['accuracy'])\n",
        "\n",
        "history = model.fit(train_generator, epochs=25, steps_per_epoch=20, validation_data = validation_generator, verbose = 1, validation_steps=3)\n",
        "\n",
        "model.save(\"mymodel.h5\")\n"
      ],
      "execution_count": null,
      "outputs": [
        {
          "output_type": "stream",
          "text": [
            "Found 2520 images belonging to 3 classes.\n",
            "Found 372 images belonging to 3 classes.\n",
            "Model: \"sequential\"\n",
            "_________________________________________________________________\n",
            "Layer (type)                 Output Shape              Param #   \n",
            "=================================================================\n",
            "conv2d (Conv2D)              (None, 148, 148, 64)      1792      \n",
            "_________________________________________________________________\n",
            "max_pooling2d (MaxPooling2D) (None, 74, 74, 64)        0         \n",
            "_________________________________________________________________\n",
            "conv2d_1 (Conv2D)            (None, 72, 72, 64)        36928     \n",
            "_________________________________________________________________\n",
            "max_pooling2d_1 (MaxPooling2 (None, 36, 36, 64)        0         \n",
            "_________________________________________________________________\n",
            "conv2d_2 (Conv2D)            (None, 34, 34, 128)       73856     \n",
            "_________________________________________________________________\n",
            "max_pooling2d_2 (MaxPooling2 (None, 17, 17, 128)       0         \n",
            "_________________________________________________________________\n",
            "conv2d_3 (Conv2D)            (None, 15, 15, 128)       147584    \n",
            "_________________________________________________________________\n",
            "max_pooling2d_3 (MaxPooling2 (None, 7, 7, 128)         0         \n",
            "_________________________________________________________________\n",
            "flatten (Flatten)            (None, 6272)              0         \n",
            "_________________________________________________________________\n",
            "dropout (Dropout)            (None, 6272)              0         \n",
            "_________________________________________________________________\n",
            "dense (Dense)                (None, 512)               3211776   \n",
            "_________________________________________________________________\n",
            "dense_1 (Dense)              (None, 3)                 1539      \n",
            "=================================================================\n",
            "Total params: 3,473,475\n",
            "Trainable params: 3,473,475\n",
            "Non-trainable params: 0\n",
            "_________________________________________________________________\n",
            "Epoch 1/25\n",
            "20/20 [==============================] - 57s 1s/step - loss: 1.5425 - accuracy: 0.3250 - val_loss: 1.0925 - val_accuracy: 0.4382\n",
            "Epoch 2/25\n",
            "20/20 [==============================] - 23s 1s/step - loss: 1.1115 - accuracy: 0.3536 - val_loss: 1.0975 - val_accuracy: 0.3333\n",
            "Epoch 3/25\n",
            "20/20 [==============================] - 24s 1s/step - loss: 1.1386 - accuracy: 0.4056 - val_loss: 0.8695 - val_accuracy: 0.5081\n",
            "Epoch 4/25\n",
            "20/20 [==============================] - 23s 1s/step - loss: 1.0191 - accuracy: 0.5218 - val_loss: 0.8881 - val_accuracy: 0.5484\n",
            "Epoch 5/25\n",
            "20/20 [==============================] - 23s 1s/step - loss: 0.8879 - accuracy: 0.5667 - val_loss: 0.6052 - val_accuracy: 0.5968\n",
            "Epoch 6/25\n",
            "20/20 [==============================] - 23s 1s/step - loss: 0.6995 - accuracy: 0.6964 - val_loss: 0.2666 - val_accuracy: 0.9570\n",
            "Epoch 7/25\n",
            "20/20 [==============================] - 23s 1s/step - loss: 0.7375 - accuracy: 0.6964 - val_loss: 0.3006 - val_accuracy: 0.7849\n",
            "Epoch 8/25\n",
            "20/20 [==============================] - 23s 1s/step - loss: 0.4783 - accuracy: 0.7964 - val_loss: 0.3304 - val_accuracy: 0.8710\n",
            "Epoch 9/25\n",
            "20/20 [==============================] - 23s 1s/step - loss: 0.5460 - accuracy: 0.8000 - val_loss: 0.2960 - val_accuracy: 0.8952\n",
            "Epoch 10/25\n",
            "20/20 [==============================] - 23s 1s/step - loss: 0.3416 - accuracy: 0.8651 - val_loss: 0.0476 - val_accuracy: 1.0000\n",
            "Epoch 11/25\n",
            "20/20 [==============================] - 23s 1s/step - loss: 0.3175 - accuracy: 0.8758 - val_loss: 0.1459 - val_accuracy: 0.9462\n",
            "Epoch 12/25\n",
            "20/20 [==============================] - 23s 1s/step - loss: 0.3031 - accuracy: 0.8762 - val_loss: 0.1196 - val_accuracy: 0.9462\n",
            "Epoch 13/25\n",
            "20/20 [==============================] - 23s 1s/step - loss: 0.1972 - accuracy: 0.9274 - val_loss: 0.0564 - val_accuracy: 1.0000\n",
            "Epoch 14/25\n",
            "20/20 [==============================] - 23s 1s/step - loss: 0.2263 - accuracy: 0.9187 - val_loss: 0.5771 - val_accuracy: 0.6828\n",
            "Epoch 15/25\n",
            "20/20 [==============================] - 23s 1s/step - loss: 0.2119 - accuracy: 0.9258 - val_loss: 0.1515 - val_accuracy: 0.9194\n",
            "Epoch 16/25\n",
            "20/20 [==============================] - 23s 1s/step - loss: 0.1759 - accuracy: 0.9373 - val_loss: 0.0263 - val_accuracy: 1.0000\n",
            "Epoch 17/25\n",
            "20/20 [==============================] - 23s 1s/step - loss: 0.1410 - accuracy: 0.9496 - val_loss: 0.0719 - val_accuracy: 0.9731\n",
            "Epoch 18/25\n",
            "20/20 [==============================] - 23s 1s/step - loss: 0.1724 - accuracy: 0.9421 - val_loss: 0.0230 - val_accuracy: 1.0000\n",
            "Epoch 19/25\n",
            "20/20 [==============================] - 23s 1s/step - loss: 0.0683 - accuracy: 0.9774 - val_loss: 0.0461 - val_accuracy: 0.9839\n",
            "Epoch 20/25\n",
            "20/20 [==============================] - 23s 1s/step - loss: 0.1571 - accuracy: 0.9476 - val_loss: 0.0481 - val_accuracy: 0.9839\n",
            "Epoch 21/25\n",
            "20/20 [==============================] - 23s 1s/step - loss: 0.1278 - accuracy: 0.9603 - val_loss: 0.0214 - val_accuracy: 0.9946\n",
            "Epoch 22/25\n",
            "20/20 [==============================] - 23s 1s/step - loss: 0.1053 - accuracy: 0.9635 - val_loss: 0.3998 - val_accuracy: 0.8091\n",
            "Epoch 23/25\n",
            "20/20 [==============================] - 23s 1s/step - loss: 0.1026 - accuracy: 0.9651 - val_loss: 0.0532 - val_accuracy: 0.9677\n",
            "Epoch 24/25\n",
            "20/20 [==============================] - 23s 1s/step - loss: 0.1163 - accuracy: 0.9607 - val_loss: 0.2392 - val_accuracy: 0.8898\n",
            "Epoch 25/25\n",
            "20/20 [==============================] - 23s 1s/step - loss: 0.1332 - accuracy: 0.9536 - val_loss: 0.1047 - val_accuracy: 0.9435\n"
          ],
          "name": "stdout"
        }
      ]
    },
    {
      "cell_type": "code",
      "metadata": {
        "id": "mWcTuoULdc__"
      },
      "source": [
        ""
      ],
      "execution_count": null,
      "outputs": []
    }
  ]
}